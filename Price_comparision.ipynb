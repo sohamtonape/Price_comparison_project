{
  "nbformat": 4,
  "nbformat_minor": 0,
  "metadata": {
    "colab": {
      "provenance": []
    },
    "kernelspec": {
      "name": "python3",
      "display_name": "Python 3"
    },
    "language_info": {
      "name": "python"
    }
  },
  "cells": [
    {
      "cell_type": "code",
      "execution_count": null,
      "metadata": {
        "colab": {
          "base_uri": "https://localhost:8080/"
        },
        "id": "bdBGhsjoUWUS",
        "outputId": "03af1146-2005-4042-e172-04c367c5e288"
      },
      "outputs": [
        {
          "output_type": "stream",
          "name": "stdout",
          "text": [
            "Requirement already satisfied: requests in /usr/local/lib/python3.10/dist-packages (2.27.1)\n",
            "Requirement already satisfied: urllib3<1.27,>=1.21.1 in /usr/local/lib/python3.10/dist-packages (from requests) (1.26.16)\n",
            "Requirement already satisfied: certifi>=2017.4.17 in /usr/local/lib/python3.10/dist-packages (from requests) (2023.7.22)\n",
            "Requirement already satisfied: charset-normalizer~=2.0.0 in /usr/local/lib/python3.10/dist-packages (from requests) (2.0.12)\n",
            "Requirement already satisfied: idna<4,>=2.5 in /usr/local/lib/python3.10/dist-packages (from requests) (3.4)\n"
          ]
        }
      ],
      "source": [
        "!pip install requests"
      ]
    },
    {
      "cell_type": "code",
      "source": [
        "!pip install beautifulsoup4"
      ],
      "metadata": {
        "colab": {
          "base_uri": "https://localhost:8080/"
        },
        "id": "Akt3AZ03WOkr",
        "outputId": "df22dffe-157e-49d5-862f-be5655af0fab"
      },
      "execution_count": null,
      "outputs": [
        {
          "output_type": "stream",
          "name": "stdout",
          "text": [
            "Requirement already satisfied: beautifulsoup4 in /usr/local/lib/python3.10/dist-packages (4.11.2)\n",
            "Requirement already satisfied: soupsieve>1.2 in /usr/local/lib/python3.10/dist-packages (from beautifulsoup4) (2.4.1)\n"
          ]
        }
      ]
    },
    {
      "cell_type": "code",
      "source": [
        "from bs4 import BeautifulSoup\n",
        "import requests"
      ],
      "metadata": {
        "id": "VSgOqVv4WXNb"
      },
      "execution_count": null,
      "outputs": []
    },
    {
      "cell_type": "code",
      "source": [
        "headers = {'User-Agent' : 'Mozilla/5.0 (Windows NT 10.0; Win64; x64) AppleWebKit/537.36 (KHTML, like Gecko) Chrome/115.0.0.0 Safari/537.36'}"
      ],
      "metadata": {
        "id": "oziSYvsPW1Xx"
      },
      "execution_count": null,
      "outputs": []
    },
    {
      "cell_type": "code",
      "source": [
        "flipkart=''\n",
        "amazon=''"
      ],
      "metadata": {
        "id": "q9zGNgzfXVdp"
      },
      "execution_count": null,
      "outputs": []
    },
    {
      "cell_type": "code",
      "source": [
        "def flipkart(name):\n",
        "    try:\n",
        "        global flipkart\n",
        "        name1 = name.replace(\" \",\"+\")\n",
        "        flipkart=f'https://www.flipkart.com/search?q={name1}&otracker=search&otracker1=search&marketplace=FLIPKART&as-show=off&as=off'\n",
        "        res = requests.get(f'https://www.flipkart.com/search?q={name1}&otracker=search&otracker1=search&marketplace=FLIPKART&as-show=off&as=off',headers=headers)\n",
        "\n",
        "\n",
        "        print(\"\\nSearching in flipkart....\")\n",
        "        soup = BeautifulSoup(res.text,'html.parser')\n",
        "\n",
        "        if(soup.select('._4rR01T')):\n",
        "            flipkart_name = soup.select('._4rR01T')[0].getText().strip().upper()\n",
        "            if name.upper() in flipkart_name:\n",
        "                flipkart_price = soup.select('._30jeq3')[0].getText().strip()\n",
        "                flipkart_name = soup.select('._4rR01T')[0].getText().strip()\n",
        "                print(\"Flipkart:\")\n",
        "                print(flipkart_name)\n",
        "                print(flipkart_price)\n",
        "                print(\"---------------------------------\")\n",
        "\n",
        "        elif(soup.select('.s1Q9rs')):\n",
        "            flipkart_name = soup.select('.s1Q9rs')[0].getText().strip()\n",
        "            flipkart_name = flipkart_name.upper()\n",
        "            if name.upper() in flipkart_name:\n",
        "                flipkart_price = soup.select('._30jeq3')[0].getText().strip()\n",
        "                flipkart_name = soup.select('.s1Q9rs')[0].getText().strip()\n",
        "                print(\"Flipkart:\")\n",
        "                print(flipkart_name)\n",
        "                print(flipkart_price)\n",
        "                print(\"---------------------------------\")\n",
        "        else:\n",
        "            flipkart_price='0'\n",
        "\n",
        "        return flipkart_price\n",
        "    except:\n",
        "        print(\"Flipkart: No product found!\")\n",
        "        print(\"---------------------------------\")\n",
        "        flipkart_price= '0'\n",
        "    return flipkart_price\n",
        "\n",
        "def amazon(name):\n",
        "    try:\n",
        "        global amazon\n",
        "        name1 = name.replace(\" \",\"-\")\n",
        "        name2 = name.replace(\" \",\"+\")\n",
        "        amazon=f'https://www.amazon.in/{name1}/s?k={name2}'\n",
        "        res = requests.get(f'https://www.amazon.in/{name1}/s?k={name2}',headers=headers)\n",
        "        print(\"\\nSearching in amazon...\")\n",
        "        soup = BeautifulSoup(res.text,'html.parser')\n",
        "        amazon_page = soup.select('.a-color-base.a-text-normal')\n",
        "        amazon_page_length = int(len(amazon_page))\n",
        "        for i in range(0,amazon_page_length):\n",
        "            name = name.upper()\n",
        "            amazon_name = soup.select('.a-color-base.a-text-normal')[i].getText().strip().upper()\n",
        "            if name in amazon_name:\n",
        "                amazon_name = soup.select('.a-color-base.a-text-normal')[i].getText().strip()\n",
        "                amazon_price = soup.select('.a-price-whole')[i].getText().strip().upper()\n",
        "                print(\"Amazon:\")\n",
        "                print(amazon_name)\n",
        "                print(\"₹\"+amazon_price)\n",
        "                print(\"---------------------------------\")\n",
        "                break\n",
        "            else:\n",
        "                i+=1\n",
        "                i=int(i)\n",
        "                if i==amazon_page_length:\n",
        "                    amazon_price = '0'\n",
        "                    print(\"amazon : No product found!\")\n",
        "                    print(\"-----------------------------\")\n",
        "                    break\n",
        "\n",
        "        return amazon_price\n",
        "    except:\n",
        "        print(\"Amazon: No product found!\")\n",
        "        print(\"---------------------------------\")\n",
        "        amazon_price = '0'\n",
        "    return amazon_price\n",
        "\n",
        "def convert(a):\n",
        "    b=a.replace(\" \",'')\n",
        "    c=b.replace(\"INR\",'')\n",
        "    d=c.replace(\",\",'')\n",
        "    f=d.replace(\"₹\",'')\n",
        "    g=int(float(f))\n",
        "    return g\n",
        "\n",
        "name=input(\"Product Name:\\n\")\n",
        "flipkart_price=flipkart(name)\n",
        "amazon_price=amazon(name)\n",
        "\n",
        "\n",
        "if flipkart_price=='0':\n",
        "    print(\"Flipkart: No product found!\")\n",
        "    flipkart_price = int(flipkart_price)\n",
        "else:\n",
        "    print(\"\\nFlipkart Price:\",flipkart_price)\n",
        "    flipkart_price=convert(flipkart_price)\n",
        "if amazon_price=='0':\n",
        "    print(\"Amazon: No product found!\")\n",
        "    amazon_price = int(amazon_price)\n",
        "else:\n",
        "    print(\"\\nAmazon price: ₹\",amazon_price)\n",
        "    amazon_price=convert(amazon_price)"
      ],
      "metadata": {
        "colab": {
          "base_uri": "https://localhost:8080/"
        },
        "id": "DM0iizauXY3b",
        "outputId": "18946d3b-6742-48b4-bb19-71f2b43d06c0"
      },
      "execution_count": null,
      "outputs": [
        {
          "output_type": "stream",
          "name": "stdout",
          "text": [
            "Product Name:\n",
            "APPLE iPhone 13 mini\n",
            "\n",
            "Searching in flipkart....\n",
            "Flipkart:\n",
            "APPLE iPhone 13 mini (Pink, 256 GB)\n",
            "₹72,999\n",
            "---------------------------------\n",
            "\n",
            "Searching in amazon...\n",
            "Amazon:\n",
            "Apple iPhone 13 Mini (512GB) - Blue\n",
            "₹94,900\n",
            "---------------------------------\n",
            "\n",
            "Flipkart Price: ₹72,999\n",
            "\n",
            "Amazon price: ₹ 94,900\n"
          ]
        }
      ]
    },
    {
      "cell_type": "code",
      "source": [
        "lst = [flipkart_price,amazon_price]\n",
        "#print(lst)\n",
        "lst2=[]\n",
        "for j in range(0,len(lst)):\n",
        "    if lst[j]>0:\n",
        "        lst2.append(lst[j])\n",
        "if len(lst2)==0:\n",
        "    print(\"No relative product find in all websites....\")\n",
        "else:\n",
        "    min_price=min(lst2)\n",
        "\n",
        "    print(\"_______________________________\")\n",
        "    print(\"\\nMinimun Price: ₹\",min_price)\n",
        "    price = {\n",
        "        f'{amazon_price}':f'{amazon}',\n",
        "        f'{flipkart_price}':f'{flipkart}',\n",
        "    }\n",
        "    for key, value in price.items():\n",
        "        if int(key)==min_price:\n",
        "            print ('\\nURL:', price[key],'\\n')\n",
        "\n",
        "    print(\"---------------------------------------------------------URLs--------------------------------------------------------------\")\n",
        "    print(\"Flipkart : \\n\",flipkart)\n",
        "    print(\"\\nAmazon : \\n\",amazon)\n",
        "    print(\"----------------------------------------------------------------------------------------------------------------------------\")"
      ],
      "metadata": {
        "colab": {
          "base_uri": "https://localhost:8080/"
        },
        "id": "vgH21hY0Y9vs",
        "outputId": "f515fce2-a9cc-4fc8-9f4b-1b4e140c93ca"
      },
      "execution_count": null,
      "outputs": [
        {
          "output_type": "stream",
          "name": "stdout",
          "text": [
            "_______________________________\n",
            "\n",
            "Minimun Price: ₹ 72999\n",
            "\n",
            "URL: https://www.flipkart.com/search?q=APPLE+iPhone+13+mini&otracker=search&otracker1=search&marketplace=FLIPKART&as-show=off&as=off \n",
            "\n",
            "---------------------------------------------------------URLs--------------------------------------------------------------\n",
            "Flipkart : \n",
            " https://www.flipkart.com/search?q=APPLE+iPhone+13+mini&otracker=search&otracker1=search&marketplace=FLIPKART&as-show=off&as=off\n",
            "\n",
            "Amazon : \n",
            " https://www.amazon.in/APPLE-iPhone-13-mini/s?k=APPLE+iPhone+13+mini\n",
            "----------------------------------------------------------------------------------------------------------------------------\n"
          ]
        }
      ]
    },
    {
      "cell_type": "code",
      "source": [],
      "metadata": {
        "id": "etTDAaBOo6b0"
      },
      "execution_count": null,
      "outputs": []
    }
  ]
}